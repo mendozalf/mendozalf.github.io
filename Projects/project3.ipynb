{
  "cells": [
    {
      "cell_type": "raw",
      "id": "f10543e9",
      "metadata": {},
      "source": [
        "---\n",
        "title: \"Client Report - Project 3\"\n",
        "subtitle: \"Course DS 250\"\n",
        "author: \"Luis Fernando Mendoza\"\n",
        "format:\n",
        "  html:\n",
        "    self-contained: true\n",
        "    page-layout: full\n",
        "    title-block-banner: true\n",
        "    toc: true\n",
        "    toc-depth: 3\n",
        "    toc-location: body\n",
        "    number-sections: false\n",
        "    html-math-method: katex\n",
        "    code-fold: true\n",
        "    code-summary: \"Show the code\"\n",
        "    code-overflow: wrap\n",
        "    code-copy: hover\n",
        "    code-tools:\n",
        "        source: false\n",
        "        toggle: true\n",
        "        caption: See code\n",
        "execute: \n",
        "  warning: false\n",
        "    \n",
        "---"
      ]
    },
    {
      "cell_type": "code",
      "execution_count": null,
      "id": "27aa9bd1",
      "metadata": {
        "vscode": {
          "languageId": "python"
        }
      },
      "outputs": [],
      "source": [
        "# Import libraries\n",
        "import pandas as pd\n",
        "import numpy as np\n",
        "import plotly.express as px\n",
        "import sqlite3"
      ]
    },
    {
      "cell_type": "markdown",
      "id": "eede1367",
      "metadata": {},
      "source": [
        "## Elevator pitch\n",
        "Did you know that we have had 30 BYU-I former students playing in either the National League or the American League of baseball ?\n",
        "Would you like to know their names, the teams they played for, salaries they got, and year when they played?\n",
        "Stay with me and I will reveal all the secrets about the NLB/ALB players who attended BYU-I!\n"
      ]
    },
    {
      "cell_type": "code",
      "execution_count": null,
      "id": "c6dabbd3",
      "metadata": {
        "vscode": {
          "languageId": "python"
        }
      },
      "outputs": [],
      "source": [
        "# Establish connection to the SQLite database\n",
        "sqlite_file = 'lahmansbaseballdb.sqlite'\n",
        "con = sqlite3.connect(sqlite_file)"
      ]
    },
    {
      "cell_type": "markdown",
      "id": "f8105b13",
      "metadata": {},
      "source": [
        "__Highlight the Questions and Tasks__\n",
        "\n",
        "## Question|Task 1\n",
        "\n",
        "Write an SQL query to create a new dataframe about baseball players who attended BYU-Idaho. The new table should contain five columns: playerID, schoolID, salary, and the yearID/teamID associated with each salary. Order the table by salary (highest to lowest) and print out the table in your report.\n"
      ]
    },
    {
      "cell_type": "code",
      "execution_count": null,
      "id": "081cd1a9",
      "metadata": {
        "vscode": {
          "languageId": "python"
        }
      },
      "outputs": [],
      "source": [
        "# Create a query to display baseball players who attended BYU-Idaho and stored it in a variable.\n",
        "# The query select the required columns, join the tables, fileter it where the WHERE name_full LIKE 'Brigham Young University-Idaho', order the salary from highest to lowest, and limit the table to print 30 rows.\n",
        "a = '''\n",
        "SELECT sch.name_full, cp.playerID, sch.schoolID, s.salary, s.yearID, s.teamID, l.league\n",
        "FROM schools sch\n",
        "JOIN collegeplaying cp\n",
        "ON sch.schoolID = cp.schoolID\n",
        "JOIN salaries s\n",
        "ON cp.playerID = s.playerID\n",
        "JOIN leagues l\n",
        "ON s.lgID = l.lgID\n",
        "WHERE name_full LIKE 'Brigham Young University-Idaho'\n",
        "ORDER BY s.salary DESC\n",
        "LIMIT 30\n",
        "\n",
        "'''\n",
        "# Executes the SQL query b on the SQLite database connected via con and stores the results in a pandas DataFrame named results. \n",
        "results = pd.read_sql_query(a, con)\n",
        "\n",
        "# Prints the 'results' DataFrame\n",
        "results"
      ]
    },
    {
      "cell_type": "markdown",
      "id": "932852a3",
      "metadata": {},
      "source": [
        "__Highlight the Questions and Tasks__\n",
        "\n",
        "## Question|Task 2 a\n",
        "This three-part question requires you to calculate batting average (number of hits divided by the number of at-bats)\n",
        "\n",
        "Write an SQL query that provides playerID, yearID, and batting average for players with at least 1 at bat that year. Sort the table from highest batting average to lowest, and then by playerid alphabetically. Show the top 5 results in your report.\n"
      ]
    },
    {
      "cell_type": "code",
      "execution_count": null,
      "id": "9d6ccddf",
      "metadata": {
        "vscode": {
          "languageId": "python"
        }
      },
      "outputs": [],
      "source": [
        "# Create a query to display the batting average for players with at least 1 at bat that year and stored it in a variable.\n",
        "# The query select the required columns, join the tables, fileter it where the school ID = byu, order the salary from highest to lowest, and limit the table to print 500 rows.\n",
        "b = '''\n",
        "SELECT playerID, yearID, ROUND(CAST(SUM(H) AS FLOAT)/ SUM(AB), 2) AS batting_average\n",
        "FROM batting\n",
        "WHERE AB >= 1\n",
        "GROUP BY playerID, yearID\n",
        "ORDER BY batting_average DESC, playerID ASC\n",
        "LIMIT 5\n",
        "\n",
        "'''\n",
        "\n",
        "# Executes the SQL query b on the SQLite database connected via con and stores the results in a pandas DataFrame named results. \n",
        "results = pd.read_sql_query(b, con)\n",
        "\n",
        "# Prints the 'results' DataFrame\n",
        "results"
      ]
    },
    {
      "cell_type": "markdown",
      "id": "89013f9c",
      "metadata": {},
      "source": [
        "__Highlight the Questions and Tasks__\n",
        "\n",
        "## Question|Task 2 b\n",
        "\n",
        "Use the same query as above, but only include players with at least 10 at bats that year. Print the top 5 results.\n"
      ]
    },
    {
      "cell_type": "code",
      "execution_count": null,
      "id": "2cd24b2b",
      "metadata": {
        "vscode": {
          "languageId": "python"
        }
      },
      "outputs": [],
      "source": [
        "# Create a query to display the batting average for players with at least 10 at bat that year and stored it in a variable.\n",
        "# The query select the required columns, join the tables, fileter it where the school ID = byu, order the salary from highest to lowest, and limit the table to print 500 rows.\n",
        "c = '''\n",
        "SELECT playerID, yearID, ROUND(CAST(SUM(H) AS FLOAT)/ SUM(AB), 2) AS batting_average\n",
        "FROM batting\n",
        "WHERE AB >= 10\n",
        "GROUP BY playerID, yearID\n",
        "ORDER BY batting_average DESC, playerID ASC\n",
        "LIMIT 5\n",
        "\n",
        "'''\n",
        "\n",
        "# Executes the SQL query b on the SQLite database connected via con and stores the results in a pandas DataFrame named results. \n",
        "results = pd.read_sql_query(c, con)\n",
        "\n",
        "# Prints the 'results' DataFrame\n",
        "results"
      ]
    },
    {
      "cell_type": "markdown",
      "id": "c9957629",
      "metadata": {},
      "source": [
        "__Highlight the Questions and Tasks__\n",
        "\n",
        "## Question|Task 2 C\n",
        "\n",
        "Now calculate the batting average for players over their entire careers (all years combined). Only include players with at least 100 at bats, and print the top 5 results.\n"
      ]
    },
    {
      "cell_type": "code",
      "execution_count": null,
      "id": "bb584e6e",
      "metadata": {
        "vscode": {
          "languageId": "python"
        }
      },
      "outputs": [],
      "source": [
        "# Create a query to display the batting average for players over their entire careers with at least 100 at bat .\n",
        "# The query select the required columns, join the tables, fileter it, and limit it to print 5 rows.\n",
        "e = '''\n",
        "SELECT playerID, ROUND(CAST(SUM(H) AS FLOAT)/ SUM(AB)/ COUNT(yearID), 2) AS batting_average\n",
        "FROM batting\n",
        "WHERE AB >= 100\n",
        "GROUP BY playerID\n",
        "ORDER BY batting_average DESC\n",
        "LIMIT 5\n",
        "\n",
        "'''\n",
        "\n",
        "# Executes the SQL query b on the SQLite database connected via con and stores the results in a pandas DataFrame named results. \n",
        "results = pd.read_sql_query(e, con)\n",
        "\n",
        "# Prints the 'results' DataFrame\n",
        "results"
      ]
    },
    {
      "cell_type": "markdown",
      "id": "852e53ce",
      "metadata": {},
      "source": [
        "__Highlight the Questions and Tasks__\n",
        "\n",
        "## Question|Task 3\n",
        "\n",
        "Pick any two baseball teams and compare them using a metric of your choice (average salary, home runs, number of wins, etc). Write an SQL query to get the data you need, then make a graph using Plotly Express to visualize the comparison. What do you learn?\n",
        "\n",
        "Despite BYU boasting a larger number of former students in baseball, this chart suggests that BYUI can rival BYU in terms of salary statistics. On average, BYUI players earned just $500.000 less than BYU players. BYUI players nevers have had salaries below $150.000. The only big difference has been in the maximun salary. BYU is $5,000.000 beyond BYUI max salary. This comparision can say that BYUI players are of better quality than BYU players. If BYUI were to increase its representation in professional baseball, this chart could potentially showcase even greater success for BYUI across all metrics compared to BYU.\n"
      ]
    },
    {
      "cell_type": "code",
      "execution_count": null,
      "id": "3e8a8227",
      "metadata": {
        "vscode": {
          "languageId": "python"
        }
      },
      "outputs": [],
      "source": [
        "# Create a query to display baseball players who attended BYU-Idaho and BYU, show their salary statistics.\n",
        "# The query select the required columns, join the tables, fileter it where the WHERE name_full LIKE '%Brigham Young University%' to get both BYU and BYUI, order the salary from highest to lowest.\n",
        "f = '''\n",
        "SELECT \n",
        "    sch.name_full, \n",
        "    COUNT(s.salary) AS count_salary, \n",
        "    ROUND(AVG(s.salary), 1) AS average_salary, \n",
        "    MAX(s.salary) AS max_salary, \n",
        "    MIN(s.salary) AS min_salary\n",
        "FROM schools sch\n",
        "JOIN collegeplaying cp ON sch.schoolID = cp.schoolID\n",
        "JOIN salaries s ON cp.playerID = s.playerID\n",
        "WHERE sch.name_full LIKE '%Brigham Young University%'\n",
        "GROUP BY sch.name_full\n",
        "ORDER BY count_salary DESC;\n",
        "\n",
        "'''\n",
        "# Executes the SQL query b on the SQLite database connected via con and stores the results in a pandas DataFrame named results. \n",
        "results = pd.read_sql_query(f, con)\n",
        "\n",
        "# Reshape the DataFrame into long-form format\n",
        "results_long = results.melt(id_vars='name_full', value_vars=['count_salary', 'average_salary', 'max_salary', 'min_salary'],  var_name='Statistic', value_name='Value')\n",
        "\n",
        "# Create the chart using Plotly Express\n",
        "fig = px.bar(results_long, x='name_full', y='Value', color='Statistic', title='BYU or BYUI?', labels={'name_full': 'School', 'Value': 'Salary Statistics', 'Statistic': 'Statistic'}, barmode='group')\n",
        "\n",
        "# Show the chart\n",
        "fig.show()"
      ]
    }
  ],
  "metadata": {
    "kernelspec": {
      "display_name": "Python 3 (ipykernel)",
      "language": "python",
      "name": "python3"
    }
  },
  "nbformat": 4,
  "nbformat_minor": 5
}
